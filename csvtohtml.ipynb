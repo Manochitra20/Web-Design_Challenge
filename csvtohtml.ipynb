{
 "cells": [
  {
   "cell_type": "code",
   "execution_count": 1,
   "id": "3da1d9db",
   "metadata": {},
   "outputs": [],
   "source": [
    "import pandas as pd"
   ]
  },
  {
   "cell_type": "code",
   "execution_count": 3,
   "id": "a3275e58",
   "metadata": {},
   "outputs": [],
   "source": [
    "# to read csv file named \"samplee\"\n",
    "a = pd.read_csv(\"Resources/weather_data.csv\")"
   ]
  },
  {
   "cell_type": "code",
   "execution_count": 6,
   "id": "3cfc1419",
   "metadata": {},
   "outputs": [],
   "source": [
    "# to save as html file\n",
    "# named as \"Table\"\n",
    "a.to_html(\"Table.html\")"
   ]
  },
  {
   "cell_type": "code",
   "execution_count": 7,
   "id": "9205007f",
   "metadata": {},
   "outputs": [],
   "source": [
    "# assign it to a\n",
    "# variable (string)\n",
    "html_file = a.to_html()"
   ]
  },
  {
   "cell_type": "code",
   "execution_count": null,
   "id": "e4b37fa6",
   "metadata": {},
   "outputs": [],
   "source": []
  }
 ],
 "metadata": {
  "kernelspec": {
   "display_name": "Python 3 (ipykernel)",
   "language": "python",
   "name": "python3"
  },
  "language_info": {
   "codemirror_mode": {
    "name": "ipython",
    "version": 3
   },
   "file_extension": ".py",
   "mimetype": "text/x-python",
   "name": "python",
   "nbconvert_exporter": "python",
   "pygments_lexer": "ipython3",
   "version": "3.9.7"
  }
 },
 "nbformat": 4,
 "nbformat_minor": 5
}
